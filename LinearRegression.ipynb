{
 "cells": [
  {
   "cell_type": "code",
   "execution_count": 1,
   "id": "07e79843-2d8c-4db2-b5e8-4a68a3626255",
   "metadata": {},
   "outputs": [],
   "source": [
    "## Predict Diabetes with linear Regresssion Model"
   ]
  },
  {
   "cell_type": "code",
   "execution_count": 2,
   "id": "86a48c85-f80d-4961-aa30-9468ec1d2021",
   "metadata": {},
   "outputs": [],
   "source": [
    "## Import Libraries\n",
    "import pandas as pd\n",
    "import numpy as np\n",
    "import matplotlib.pyplot as plt"
   ]
  },
  {
   "cell_type": "code",
   "execution_count": null,
   "id": "9d207f66-1334-43c8-9e63-f79bb04a857c",
   "metadata": {},
   "outputs": [],
   "source": []
  }
 ],
 "metadata": {
  "kernelspec": {
   "display_name": "Python [conda env:base] *",
   "language": "python",
   "name": "conda-base-py"
  },
  "language_info": {
   "codemirror_mode": {
    "name": "ipython",
    "version": 3
   },
   "file_extension": ".py",
   "mimetype": "text/x-python",
   "name": "python",
   "nbconvert_exporter": "python",
   "pygments_lexer": "ipython3",
   "version": "3.12.7"
  }
 },
 "nbformat": 4,
 "nbformat_minor": 5
}
